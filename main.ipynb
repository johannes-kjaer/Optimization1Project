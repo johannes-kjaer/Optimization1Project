{
 "cells": [
  {
   "cell_type": "code",
   "execution_count": 1,
   "metadata": {},
   "outputs": [],
   "source": [
    "import numpy as np\n",
    "import objectiveFunctions\n",
    "import BFGS\n",
    "import gradientDescent"
   ]
  },
  {
   "attachments": {},
   "cell_type": "markdown",
   "metadata": {},
   "source": [
    "The first problem we look at is the problem of a cable net described by the following parameters:\n",
    "$$ \n",
    "\\begin{equation}\n",
    "    \\begin{split}\n",
    "        p^{(1)} = (5, 5, 0),\\quad p^{(2)} = (-5, 5, 0), &\\quad p^{(3)} = (-5, -5, 0), \\quad p^{(4)} = (5, -5, 0) \\\\\n",
    "        m_i g = \\frac{1}{6}, \\quad i=5&,6,7,8 \\quad,\\quad k=1 \\\\\n",
    "        l_{15} = l_{26} = l_{37} = l_{48} = &l_{56} = l_{67} = l_{78} = l_{58} = 3\n",
    "    \\end{split}\n",
    "\\end{equation}\n",
    "$$\n",
    "\n",
    "This problem is set up as the *objectiveFunctionP5* object *P5* in the file *objectiveFunctions*. First we test the value function as well as the gradient at the provided analytical solution, defined in the following *X_star*:"
   ]
  },
  {
   "cell_type": "code",
   "execution_count": 2,
   "metadata": {},
   "outputs": [
    {
     "name": "stdout",
     "output_type": "stream",
     "text": [
      "The value of the function at the analytical solution. \n",
      "It should be about equal to 1.1666666666666667.\n",
      "E_P5=1.666666666666667\n",
      "The gradient at the analytical solution, which should be about zero in all directions.\n",
      "[0. 0. 0. 0. 0. 0. 0. 0. 0. 0. 0. 0.]\n"
     ]
    }
   ],
   "source": [
    "X_star = np.array([2, 2, -3/2,-2, 2, -3/2,-2, -2, -3/2,2, -2, -3/2])    # The analytical solution\n",
    "print(f'''The value of the function at the analytical solution. \n",
    "It should be about equal to {7/6}.\\nE_P5={objectiveFunctions.P5.getVal(X_star)}''')            # The value of the function at X^* should be about 7/6\n",
    "print(f'The gradient at the analytical solution, which should be about zero in all directions.')\n",
    "print(objectiveFunctions.P5.getGrad(X_star)) # The gradient should equal zero at X^*\n"
   ]
  },
  {
   "attachments": {},
   "cell_type": "markdown",
   "metadata": {},
   "source": [
    "This looks good so we move on to using optimization methods on the problems. First we test a much simpler problem: two nodes floating above ground, with cables to one free node between them:\n",
    "$$ \n",
    "\\begin{equation}\n",
    "    \\begin{split}\n",
    "        p^{(1)} = (1, 0, 3),\\quad &p^{(2)} = (-1, 0, 3) \\\\\n",
    "        l_{13} = l_{23} = 1 \\quad&,\\quad m_3 g = 1\n",
    "    \\end{split}\n",
    "\\end{equation}\n",
    "$$"
   ]
  },
  {
   "cell_type": "code",
   "execution_count": 17,
   "metadata": {},
   "outputs": [
    {
     "name": "stdout",
     "output_type": "stream",
     "text": [
      "The algorithm converged after 9 iterations.\n",
      "X_sol:\n",
      " [0.         0.         2.21667555]\n"
     ]
    }
   ],
   "source": [
    "print('X_sol:\\n',BFGS.BFGS(objectiveFunctions.testOF.getVal,objectiveFunctions.testOF.getGrad,np.zeros(3)))"
   ]
  },
  {
   "attachments": {},
   "cell_type": "markdown",
   "metadata": {},
   "source": [
    "As expected the free node hangs between the fixed nodes. Next we find a solution o the original system, from a random initialization - for simplicity we place all the free nodes at the origin, and use the BFGS method to solve the problem:"
   ]
  },
  {
   "cell_type": "code",
   "execution_count": 3,
   "metadata": {},
   "outputs": [
    {
     "name": "stdout",
     "output_type": "stream",
     "text": [
      "The algorithm converged after 21 iterations.\n",
      "BFGS: X_sol:\n",
      " [ 2.00000004  2.00000004 -1.49999698 -2.00000004  2.00000004 -1.49999698\n",
      " -2.00000004 -2.00000004 -1.49999698  2.00000004 -2.00000004 -1.49999698]\n"
     ]
    }
   ],
   "source": [
    "X_0 = np.zeros(3*4)\n",
    "print('BFGS: X_sol:\\n',BFGS.BFGS(objectiveFunctions.P5.getVal,objectiveFunctions.P5.getGrad,X_0))"
   ]
  },
  {
   "attachments": {},
   "cell_type": "markdown",
   "metadata": {},
   "source": [
    "This is as expected, it is the analytical solution, with only minor numerical inaccuracies. For comparison of the effectiveness of the BFGS method we use the gradient descent method also on the same problem:"
   ]
  },
  {
   "cell_type": "code",
   "execution_count": 4,
   "metadata": {},
   "outputs": [
    {
     "name": "stdout",
     "output_type": "stream",
     "text": [
      "The algorithm converged after 771 iterations\n",
      "Gradient descent: X_sol:\n",
      " [ 1.99999978  1.99999978 -1.49999617 -1.99999978  1.99999978 -1.49999617\n",
      " -1.99999978 -1.99999978 -1.49999617  1.99999978 -1.99999978 -1.49999617]\n"
     ]
    }
   ],
   "source": [
    "print('Gradient descent: X_sol:\\n',gradientDescent.gradientDescent(objectiveFunctions.P5.getVal,objectiveFunctions.P5.getGrad,X_0,maxSteps=1000,rho=0.9))"
   ]
  },
  {
   "attachments": {},
   "cell_type": "markdown",
   "metadata": {},
   "source": [
    "This used far more iterations to reach the solution, as we woukld expect.\n",
    "\n",
    "Moving on to tensegrity domes, where there are fixed nodes and bars. A system with a known analytical solution is given by the following parameters:\n",
    "\n",
    "$$\n",
    "\\begin{equation}\n",
    "    \\begin{split}\n",
    "        p^{(1)} = (1, 1, 0),\\quad p^{(2)} = (-1, 1, 0), &\\quad p^{(3)} = (-1, -1, 0), \\quad p^{(4)} = (1, -1, 0) \\\\\n",
    "        m_i g = 0, \\quad i=5,6,7,8,\\quad &k=0.1, \\quad c=1, \\quad g\\rho = 0 \\\\\n",
    "        \\text{Bars at: } l_{15} = l_{26} = &l_{37} = l_{48} = 10 \\\\\n",
    "        \\text{Cables at: } l_{18} = l_{25} = l_{36} = l_{47}& = 8, \\quad l_{56} = l_{67} = l_{78} = l_{58} = 1 \\\\\n",
    "    \\end{split}\n",
    "\\end{equation}\n",
    "$$\n",
    "\n",
    "We again test the gradient at the provided analytical solution *X_star*:"
   ]
  },
  {
   "cell_type": "code",
   "execution_count": 5,
   "metadata": {},
   "outputs": [
    {
     "name": "stdout",
     "output_type": "stream",
     "text": [
      "The gradient at the analytical solution. Should be about equal to zero.\n",
      "[ 2.06271080e-06  3.13847095e-09 -2.99500203e-08 -3.13847095e-09\n",
      "  2.06271080e-06 -2.99500203e-08 -2.06271080e-06 -3.13847095e-09\n",
      " -2.99500203e-08  3.13847095e-09 -2.06271080e-06 -2.99500203e-08]\n"
     ]
    }
   ],
   "source": [
    "X_star = np.array([-0.70970,0,9.54287,0,-0.70970,9.54287,0.70970,0,9.54287,0,0.70970,9.54287]) # The approximate analytical solution of problem 9\n",
    "print(f'The gradient at the analytical solution. Should be about equal to zero.')\n",
    "print(objectiveFunctions.P9.getGrad(X_star))"
   ]
  },
  {
   "attachments": {},
   "cell_type": "markdown",
   "metadata": {},
   "source": [
    "As expected, the gradient at the solution is about equal to zero, so we proceed to use the BFGS method on the problem to see what solutions it may admit. We test two different initializations *X_1* and *X_2*:"
   ]
  },
  {
   "cell_type": "code",
   "execution_count": 6,
   "metadata": {},
   "outputs": [
    {
     "name": "stdout",
     "output_type": "stream",
     "text": [
      "Using BFGS on problem 9, with the the inital X=\n",
      "[-1. -1. -1. -1. -1. -1. -1. -1. -1. -1. -1. -1.]\n",
      "The algorithm converged after 3076 iterations.\n",
      "X_sol:\n",
      " [-7.09728435e-01 -1.17660014e-04 -9.54284775e+00 -9.19409756e-06\n",
      " -7.09815069e-01 -9.54282426e+00  7.09587426e-01  2.52504278e-06\n",
      " -9.54293018e+00 -1.31106841e-04  7.09705224e-01 -9.54286915e+00]\n"
     ]
    }
   ],
   "source": [
    "X_1 = np.ones(3*4) * -1\n",
    "print(f'Using BFGS on problem 9, with the the inital X=\\n{X_1}')\n",
    "print('X_sol:\\n',BFGS.BFGS(objectiveFunctions.P9.getVal,objectiveFunctions.P9.getGrad,X_1,maxItr=10000))"
   ]
  },
  {
   "cell_type": "code",
   "execution_count": 7,
   "metadata": {},
   "outputs": [
    {
     "name": "stdout",
     "output_type": "stream",
     "text": [
      "Using BFGS on problem 9, with the the inital X=\n",
      "[1. 1. 1. 1. 1. 1. 1. 1. 1. 1. 1. 1.]\n",
      "The algorithm converged after 3059 iterations.\n",
      "X_sol:\n",
      " [-7.09724380e-01 -1.76224101e-04  9.54289561e+00  1.61709553e-05\n",
      " -7.09858500e-01  9.54282372e+00  7.09577759e-01 -4.35121672e-07\n",
      "  9.54287159e+00 -1.61855422e-04  7.09675985e-01  9.54286262e+00]\n"
     ]
    }
   ],
   "source": [
    "X_2 = np.ones(3*4) #np.array([2,0,10,2,0,10,2,0,10,2,0,10])\n",
    "print(f'Using BFGS on problem 9, with the the inital X=\\n{X_2}')\n",
    "print('X_sol:\\n',BFGS.BFGS(objectiveFunctions.P9.getVal,objectiveFunctions.P9.getGrad,X_2,maxItr=10000))"
   ]
  },
  {
   "attachments": {},
   "cell_type": "markdown",
   "metadata": {},
   "source": [
    "The first one of these is a rather boring solution, as the nodes are just hanging down. The second is however more interesting, here the nodes are keopt above the fixed nodes by the tension of the cables, and the integrity of the bars. In other words, the forces acting upon the nodes are net zero, as the as the forces counteract each other perfectly, keeping the structure from collapsing."
   ]
  },
  {
   "cell_type": "code",
   "execution_count": null,
   "metadata": {},
   "outputs": [],
   "source": []
  }
 ],
 "metadata": {
  "kernelspec": {
   "display_name": "StdVenv",
   "language": "python",
   "name": "python3"
  },
  "language_info": {
   "codemirror_mode": {
    "name": "ipython",
    "version": 3
   },
   "file_extension": ".py",
   "mimetype": "text/x-python",
   "name": "python",
   "nbconvert_exporter": "python",
   "pygments_lexer": "ipython3",
   "version": "3.10.9"
  },
  "orig_nbformat": 4,
  "vscode": {
   "interpreter": {
    "hash": "f87ab76589268bdbb753a2dec0d8b6ac0f40162a4dbecd17ac318fb801fac1f2"
   }
  }
 },
 "nbformat": 4,
 "nbformat_minor": 2
}
